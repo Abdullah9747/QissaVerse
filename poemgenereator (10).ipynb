{
 "cells": [
  {
   "cell_type": "code",
   "execution_count": 13,
   "metadata": {
    "execution": {
     "iopub.execute_input": "2025-02-15T07:47:13.274321Z",
     "iopub.status.busy": "2025-02-15T07:47:13.274028Z",
     "iopub.status.idle": "2025-02-15T07:47:13.277804Z",
     "shell.execute_reply": "2025-02-15T07:47:13.277012Z",
     "shell.execute_reply.started": "2025-02-15T07:47:13.274298Z"
    },
    "executionInfo": {
     "elapsed": 364,
     "status": "ok",
     "timestamp": 1738948071122,
     "user": {
      "displayName": "Abdullah Faisal",
      "userId": "09640388412601252782"
     },
     "user_tz": -300
    },
    "id": "hzR5iHS85grw",
    "trusted": true
   },
   "outputs": [],
   "source": [
    "import pandas as pd"
   ]
  },
  {
   "cell_type": "code",
   "execution_count": 14,
   "metadata": {
    "execution": {
     "iopub.execute_input": "2025-02-15T07:47:13.963277Z",
     "iopub.status.busy": "2025-02-15T07:47:13.962998Z",
     "iopub.status.idle": "2025-02-15T07:47:13.992443Z",
     "shell.execute_reply": "2025-02-15T07:47:13.991763Z",
     "shell.execute_reply.started": "2025-02-15T07:47:13.963255Z"
    },
    "executionInfo": {
     "elapsed": 149,
     "status": "ok",
     "timestamp": 1738948072039,
     "user": {
      "displayName": "Abdullah Faisal",
      "userId": "09640388412601252782"
     },
     "user_tz": -300
    },
    "id": "fUuVbiA25shC",
    "outputId": "d8ae86da-7cb3-4b09-ba0f-f0dd386dd244",
    "trusted": true
   },
   "outputs": [
    {
     "data": {
      "text/html": [
       "<div>\n",
       "<style scoped>\n",
       "    .dataframe tbody tr th:only-of-type {\n",
       "        vertical-align: middle;\n",
       "    }\n",
       "\n",
       "    .dataframe tbody tr th {\n",
       "        vertical-align: top;\n",
       "    }\n",
       "\n",
       "    .dataframe thead th {\n",
       "        text-align: right;\n",
       "    }\n",
       "</style>\n",
       "<table border=\"1\" class=\"dataframe\">\n",
       "  <thead>\n",
       "    <tr style=\"text-align: right;\">\n",
       "      <th></th>\n",
       "      <th>text_cleaned</th>\n",
       "    </tr>\n",
       "  </thead>\n",
       "  <tbody>\n",
       "    <tr>\n",
       "      <th>0</th>\n",
       "      <td>Poetry</td>\n",
       "    </tr>\n",
       "    <tr>\n",
       "      <th>1</th>\n",
       "      <td>aañkh se duur na ho dil se utar jā.egā \\nvaqt ...</td>\n",
       "    </tr>\n",
       "    <tr>\n",
       "      <th>2</th>\n",
       "      <td>āshiqī meñ 'mīr' jaise ḳhvāb mat dekhā karo \\n...</td>\n",
       "    </tr>\n",
       "    <tr>\n",
       "      <th>3</th>\n",
       "      <td>ab aur kyā kisī se marāsim baḌhā.eñ ham \\nye b...</td>\n",
       "    </tr>\n",
       "    <tr>\n",
       "      <th>4</th>\n",
       "      <td>ab ke ham bichhḌe to shāyad kabhī ḳhvāboñ meñ ...</td>\n",
       "    </tr>\n",
       "    <tr>\n",
       "      <th>...</th>\n",
       "      <td>...</td>\n",
       "    </tr>\n",
       "    <tr>\n",
       "      <th>1310</th>\n",
       "      <td>vo mere ghar nahīñ aatā maiñ us ke ghar nahīñ ...</td>\n",
       "    </tr>\n",
       "    <tr>\n",
       "      <th>1311</th>\n",
       "      <td>vo mujh ko kyā batānā chāhtā hai \\njo duniyā s...</td>\n",
       "    </tr>\n",
       "    <tr>\n",
       "      <th>1312</th>\n",
       "      <td>ye hai to sab ke liye ho ye zid hamārī hai \\ni...</td>\n",
       "    </tr>\n",
       "    <tr>\n",
       "      <th>1313</th>\n",
       "      <td>zarā sā qatra kahīñ aaj agar ubhartā hai \\nsam...</td>\n",
       "    </tr>\n",
       "    <tr>\n",
       "      <th>1314</th>\n",
       "      <td>zindagī tujh pe ab ilzām koī kyā rakkhe \\napnā...</td>\n",
       "    </tr>\n",
       "  </tbody>\n",
       "</table>\n",
       "<p>1315 rows × 1 columns</p>\n",
       "</div>"
      ],
      "text/plain": [
       "                                           text_cleaned\n",
       "0                                                Poetry\n",
       "1     aañkh se duur na ho dil se utar jā.egā \\nvaqt ...\n",
       "2     āshiqī meñ 'mīr' jaise ḳhvāb mat dekhā karo \\n...\n",
       "3     ab aur kyā kisī se marāsim baḌhā.eñ ham \\nye b...\n",
       "4     ab ke ham bichhḌe to shāyad kabhī ḳhvāboñ meñ ...\n",
       "...                                                 ...\n",
       "1310  vo mere ghar nahīñ aatā maiñ us ke ghar nahīñ ...\n",
       "1311  vo mujh ko kyā batānā chāhtā hai \\njo duniyā s...\n",
       "1312  ye hai to sab ke liye ho ye zid hamārī hai \\ni...\n",
       "1313  zarā sā qatra kahīñ aaj agar ubhartā hai \\nsam...\n",
       "1314  zindagī tujh pe ab ilzām koī kyā rakkhe \\napnā...\n",
       "\n",
       "[1315 rows x 1 columns]"
      ]
     },
     "execution_count": 14,
     "metadata": {},
     "output_type": "execute_result"
    }
   ],
   "source": [
    "data=pd.read_csv('/kaggle/input/poetry-data-set/Roman-Urdu-Poetry.csv',usecols=[2],names=[\"text_cleaned\"])\n",
    "data"
   ]
  },
  {
   "cell_type": "markdown",
   "metadata": {
    "id": "BrMrC3rm-9fH"
   },
   "source": [
    "# Tokenisation"
   ]
  },
  {
   "cell_type": "code",
   "execution_count": 15,
   "metadata": {
    "execution": {
     "iopub.execute_input": "2025-02-15T07:47:16.116490Z",
     "iopub.status.busy": "2025-02-15T07:47:16.116212Z",
     "iopub.status.idle": "2025-02-15T07:47:19.075971Z",
     "shell.execute_reply": "2025-02-15T07:47:19.075253Z",
     "shell.execute_reply.started": "2025-02-15T07:47:16.116469Z"
    },
    "executionInfo": {
     "elapsed": 1521,
     "status": "ok",
     "timestamp": 1738948080045,
     "user": {
      "displayName": "Abdullah Faisal",
      "userId": "09640388412601252782"
     },
     "user_tz": -300
    },
    "id": "z5A5amJI-hwM",
    "trusted": true
   },
   "outputs": [],
   "source": [
    "from collections import Counter\n",
    "\n",
    "\n",
    "\n",
    "# Tokenising into Characters\n",
    "characters = list(\"\".join(data['text_cleaned']))\n",
    "\n",
    "# Create Vocab\n",
    "vocab = Counter(characters)\n",
    "vocab=sorted(vocab, key=vocab.get, reverse=True)\n",
    "vocab_to_int={characters:i for i,characters in enumerate(vocab)}\n",
    "int_to_vocab={i:characters for characters,i in vocab_to_int.items()}\n",
    "\n",
    "\n",
    "\n",
    "# converting characters to integers\n",
    "encoded_char=[vocab_to_int[char] for char in characters]\n",
    "\n",
    "\n",
    "# Converting data into Input and output sequences\n",
    "seq_length=102\n",
    "input_sequences=[]\n",
    "output_sequences=[]\n",
    "\n",
    "for i in range(len(encoded_char)-seq_length):\n",
    "  input_seq=encoded_char[i:i+seq_length]\n",
    "  output_seq=encoded_char[i+seq_length]\n",
    "  input_sequences.append(input_seq)\n",
    "  output_sequences.append(output_seq)\n",
    "\n",
    "\n"
   ]
  },
  {
   "cell_type": "markdown",
   "metadata": {
    "id": "LjXc7lh5Ecfu"
   },
   "source": [
    "# Converting into Tensors"
   ]
  },
  {
   "cell_type": "code",
   "execution_count": 16,
   "metadata": {
    "execution": {
     "iopub.execute_input": "2025-02-15T07:47:19.077147Z",
     "iopub.status.busy": "2025-02-15T07:47:19.076907Z",
     "iopub.status.idle": "2025-02-15T07:47:26.111875Z",
     "shell.execute_reply": "2025-02-15T07:47:26.111052Z",
     "shell.execute_reply.started": "2025-02-15T07:47:19.077127Z"
    },
    "executionInfo": {
     "elapsed": 5629,
     "status": "ok",
     "timestamp": 1738948086891,
     "user": {
      "displayName": "Abdullah Faisal",
      "userId": "09640388412601252782"
     },
     "user_tz": -300
    },
    "id": "1buI48Ej_KHY",
    "trusted": true
   },
   "outputs": [],
   "source": [
    "import torch\n",
    "input_sequences=torch.tensor(input_sequences,dtype=torch.long)\n",
    "output_sequences=torch.tensor(output_sequences,dtype=torch.long)"
   ]
  },
  {
   "cell_type": "markdown",
   "metadata": {},
   "source": [
    "# Making DataLoader"
   ]
  },
  {
   "cell_type": "code",
   "execution_count": 17,
   "metadata": {
    "execution": {
     "iopub.execute_input": "2025-02-15T07:47:26.113324Z",
     "iopub.status.busy": "2025-02-15T07:47:26.113082Z",
     "iopub.status.idle": "2025-02-15T07:47:26.193130Z",
     "shell.execute_reply": "2025-02-15T07:47:26.192543Z",
     "shell.execute_reply.started": "2025-02-15T07:47:26.113303Z"
    },
    "executionInfo": {
     "elapsed": 117,
     "status": "ok",
     "timestamp": 1738948088439,
     "user": {
      "displayName": "Abdullah Faisal",
      "userId": "09640388412601252782"
     },
     "user_tz": -300
    },
    "id": "-sMgkYYXCrBM",
    "trusted": true
   },
   "outputs": [],
   "source": [
    "batch_size=256\n",
    "from torch.utils.data import Dataset,DataLoader\n",
    "class PoemDataset(Dataset):\n",
    "  def __init__(self,input_sequences,output_sequences):\n",
    "    self.input_sequences=input_sequences\n",
    "    self.output_sequences=output_sequences\n",
    "\n",
    "  def __len__(self):\n",
    "    return len(self.input_sequences)\n",
    "\n",
    "  def __getitem__(self,idx):\n",
    "    return self.input_sequences[idx],self.output_sequences[idx]\n",
    "\n",
    "dataset=PoemDataset(input_sequences,output_sequences)\n",
    "\n",
    "train_loader=DataLoader(dataset,batch_size=256,shuffle=True)\n"
   ]
  },
  {
   "cell_type": "markdown",
   "metadata": {
    "id": "BBfIEiqbJjft"
   },
   "source": [
    "# Build GRU Model"
   ]
  },
  {
   "cell_type": "code",
   "execution_count": 23,
   "metadata": {
    "execution": {
     "iopub.execute_input": "2025-02-15T07:48:37.492225Z",
     "iopub.status.busy": "2025-02-15T07:48:37.491898Z",
     "iopub.status.idle": "2025-02-15T07:48:37.497754Z",
     "shell.execute_reply": "2025-02-15T07:48:37.496949Z",
     "shell.execute_reply.started": "2025-02-15T07:48:37.492199Z"
    },
    "executionInfo": {
     "elapsed": 18,
     "status": "ok",
     "timestamp": 1738948089679,
     "user": {
      "displayName": "Abdullah Faisal",
      "userId": "09640388412601252782"
     },
     "user_tz": -300
    },
    "id": "H1Kd1V3mJSMS",
    "trusted": true
   },
   "outputs": [],
   "source": [
    "import torch.nn as nn\n",
    "\n",
    "\n",
    "class GRUPoemGenerator(nn.Module):\n",
    "    def __init__(self, vocab_size, embedding_dim, hidden_size, num_layers):\n",
    "        super(GRUPoemGenerator, self).__init__()\n",
    "        self.hidden_size = hidden_size  # <-- Add this line\n",
    "        self.num_layers = num_layers  # If using multiple layers\n",
    "\n",
    "        self.embedding = nn.Embedding(vocab_size, embedding_dim)\n",
    "        self.gru = nn.GRU(embedding_dim, hidden_size, num_layers, batch_first=True)\n",
    "        self.fc = nn.Linear(hidden_size, vocab_size)\n",
    "\n",
    "    def forward(self, x):\n",
    "        x = self.embedding(x)\n",
    "        out,hidden = self.gru(x)\n",
    "        out = self.fc(out[:, -1, :])  # Get last time step's output\n",
    "        return out, hidden\n",
    "\n",
    "    def init_hidden(self, batch_size):\n",
    "        return torch.zeros(self.num_layers, batch_size, self.hidden_size, device=device)\n"
   ]
  },
  {
   "cell_type": "markdown",
   "metadata": {
    "id": "75eHQG-TMKZf"
   },
   "source": [
    "# Setting HyperParameters"
   ]
  },
  {
   "cell_type": "code",
   "execution_count": 24,
   "metadata": {
    "execution": {
     "iopub.execute_input": "2025-02-15T07:48:39.588142Z",
     "iopub.status.busy": "2025-02-15T07:48:39.587861Z",
     "iopub.status.idle": "2025-02-15T07:48:39.591953Z",
     "shell.execute_reply": "2025-02-15T07:48:39.590994Z",
     "shell.execute_reply.started": "2025-02-15T07:48:39.588122Z"
    },
    "executionInfo": {
     "elapsed": 23,
     "status": "ok",
     "timestamp": 1738948090750,
     "user": {
      "displayName": "Abdullah Faisal",
      "userId": "09640388412601252782"
     },
     "user_tz": -300
    },
    "id": "79XqMagTMISY",
    "trusted": true
   },
   "outputs": [],
   "source": [
    "vocab_size=len(vocab)\n",
    "embedding_dim=512\n",
    "hidden_dim=256\n",
    "n_layer=2\n"
   ]
  },
  {
   "cell_type": "markdown",
   "metadata": {
    "id": "NZnu3RMmNAfv"
   },
   "source": [
    "# Initialize Model"
   ]
  },
  {
   "cell_type": "code",
   "execution_count": 25,
   "metadata": {
    "execution": {
     "iopub.execute_input": "2025-02-15T07:48:42.044185Z",
     "iopub.status.busy": "2025-02-15T07:48:42.043810Z",
     "iopub.status.idle": "2025-02-15T07:48:42.059802Z",
     "shell.execute_reply": "2025-02-15T07:48:42.059137Z",
     "shell.execute_reply.started": "2025-02-15T07:48:42.044158Z"
    },
    "executionInfo": {
     "elapsed": 477,
     "status": "ok",
     "timestamp": 1738948092318,
     "user": {
      "displayName": "Abdullah Faisal",
      "userId": "09640388412601252782"
     },
     "user_tz": -300
    },
    "id": "D_iqM0Z0M_4Z",
    "outputId": "cffafcb3-9b61-4d2a-f8ff-e77f4ac2732b",
    "trusted": true
   },
   "outputs": [
    {
     "name": "stdout",
     "output_type": "stream",
     "text": [
      "cuda\n"
     ]
    }
   ],
   "source": [
    "device=torch.device('cuda' if torch.cuda.is_available() else 'cpu')\n",
    "print(device)\n",
    "model=GRUPoemGenerator(vocab_size,embedding_dim,hidden_dim,n_layer).to(device)"
   ]
  },
  {
   "cell_type": "markdown",
   "metadata": {
    "id": "YoIfMOlBNJ80"
   },
   "source": [
    "# Loss and Optimiser"
   ]
  },
  {
   "cell_type": "code",
   "execution_count": null,
   "metadata": {
    "execution": {
     "iopub.execute_input": "2025-02-15T07:48:43.100568Z",
     "iopub.status.busy": "2025-02-15T07:48:43.100289Z",
     "iopub.status.idle": "2025-02-15T07:48:43.104502Z",
     "shell.execute_reply": "2025-02-15T07:48:43.103731Z",
     "shell.execute_reply.started": "2025-02-15T07:48:43.100547Z"
    },
    "executionInfo": {
     "elapsed": 4751,
     "status": "ok",
     "timestamp": 1738948098265,
     "user": {
      "displayName": "Abdullah Faisal",
      "userId": "09640388412601252782"
     },
     "user_tz": -300
    },
    "id": "Qr_c5TIDNIKd",
    "trusted": true
   },
   "outputs": [],
   "source": [
    "criterion=nn.CrossEntropyLoss()\n",
    "optimizer=torch.optim.Adam(model.parameters(),lr=0.005,weight_decay=1e-4)"
   ]
  },
  {
   "cell_type": "markdown",
   "metadata": {
    "id": "yEzFrc09OMrQ"
   },
   "source": [
    "# Training"
   ]
  },
  {
   "cell_type": "code",
   "execution_count": 10,
   "metadata": {
    "execution": {
     "iopub.execute_input": "2025-02-09T17:17:18.547813Z",
     "iopub.status.busy": "2025-02-09T17:17:18.547454Z",
     "iopub.status.idle": "2025-02-09T17:17:22.791108Z",
     "shell.execute_reply": "2025-02-09T17:17:22.790172Z",
     "shell.execute_reply.started": "2025-02-09T17:17:18.547792Z"
    },
    "executionInfo": {
     "elapsed": 2732,
     "status": "ok",
     "timestamp": 1738948101753,
     "user": {
      "displayName": "Abdullah Faisal",
      "userId": "09640388412601252782"
     },
     "user_tz": -300
    },
    "id": "ZNpv7qS4SqRu",
    "outputId": "f21393b5-9a44-47bf-df5d-f6b18faff106",
    "trusted": true
   },
   "outputs": [
    {
     "name": "stdout",
     "output_type": "stream",
     "text": [
      "Requirement already satisfied: tqdm in /usr/local/lib/python3.10/dist-packages (4.67.1)\n",
      "Note: you may need to restart the kernel to use updated packages.\n"
     ]
    }
   ],
   "source": [
    "%pip install tqdm"
   ]
  },
  {
   "cell_type": "code",
   "execution_count": 29,
   "metadata": {
    "execution": {
     "iopub.execute_input": "2025-02-15T07:52:28.212000Z",
     "iopub.status.busy": "2025-02-15T07:52:28.211625Z",
     "iopub.status.idle": "2025-02-15T08:41:41.071164Z",
     "shell.execute_reply": "2025-02-15T08:41:41.070312Z",
     "shell.execute_reply.started": "2025-02-15T07:52:28.211970Z"
    },
    "executionInfo": {
     "elapsed": 978949,
     "status": "ok",
     "timestamp": 1738949080704,
     "user": {
      "displayName": "Abdullah Faisal",
      "userId": "09640388412601252782"
     },
     "user_tz": -300
    },
    "id": "qZCq1Ht9Nx6U",
    "outputId": "2f9feb67-9168-4c02-9ea0-c23da1b2ea0b",
    "trusted": true
   },
   "outputs": [
    {
     "name": "stderr",
     "output_type": "stream",
     "text": [
      "                                                               \r"
     ]
    },
    {
     "name": "stdout",
     "output_type": "stream",
     "text": [
      "Epoch 1/20, Loss: 1.7611\n"
     ]
    },
    {
     "name": "stderr",
     "output_type": "stream",
     "text": [
      "                                                               \r"
     ]
    },
    {
     "name": "stdout",
     "output_type": "stream",
     "text": [
      "Epoch 2/20, Loss: 1.6165\n"
     ]
    },
    {
     "name": "stderr",
     "output_type": "stream",
     "text": [
      "                                                               \r"
     ]
    },
    {
     "name": "stdout",
     "output_type": "stream",
     "text": [
      "Epoch 3/20, Loss: 1.5743\n"
     ]
    },
    {
     "name": "stderr",
     "output_type": "stream",
     "text": [
      "                                                               \r"
     ]
    },
    {
     "name": "stdout",
     "output_type": "stream",
     "text": [
      "Epoch 4/20, Loss: 1.5522\n"
     ]
    },
    {
     "name": "stderr",
     "output_type": "stream",
     "text": [
      "                                                               \r"
     ]
    },
    {
     "name": "stdout",
     "output_type": "stream",
     "text": [
      "Epoch 5/20, Loss: 1.5384\n"
     ]
    },
    {
     "name": "stderr",
     "output_type": "stream",
     "text": [
      "                                                               \r"
     ]
    },
    {
     "name": "stdout",
     "output_type": "stream",
     "text": [
      "Epoch 6/20, Loss: 1.5309\n"
     ]
    },
    {
     "name": "stderr",
     "output_type": "stream",
     "text": [
      "                                                               \r"
     ]
    },
    {
     "name": "stdout",
     "output_type": "stream",
     "text": [
      "Epoch 7/20, Loss: 1.5253\n"
     ]
    },
    {
     "name": "stderr",
     "output_type": "stream",
     "text": [
      "                                                               \r"
     ]
    },
    {
     "name": "stdout",
     "output_type": "stream",
     "text": [
      "Epoch 8/20, Loss: 1.5197\n"
     ]
    },
    {
     "name": "stderr",
     "output_type": "stream",
     "text": [
      "                                                               \r"
     ]
    },
    {
     "name": "stdout",
     "output_type": "stream",
     "text": [
      "Epoch 9/20, Loss: 1.5172\n"
     ]
    },
    {
     "name": "stderr",
     "output_type": "stream",
     "text": [
      "                                                                \r"
     ]
    },
    {
     "name": "stdout",
     "output_type": "stream",
     "text": [
      "Epoch 10/20, Loss: 1.5136\n"
     ]
    },
    {
     "name": "stderr",
     "output_type": "stream",
     "text": [
      "                                                                \r"
     ]
    },
    {
     "name": "stdout",
     "output_type": "stream",
     "text": [
      "Epoch 11/20, Loss: 1.5118\n"
     ]
    },
    {
     "name": "stderr",
     "output_type": "stream",
     "text": [
      "                                                                \r"
     ]
    },
    {
     "name": "stdout",
     "output_type": "stream",
     "text": [
      "Epoch 12/20, Loss: 1.5098\n"
     ]
    },
    {
     "name": "stderr",
     "output_type": "stream",
     "text": [
      "                                                                \r"
     ]
    },
    {
     "name": "stdout",
     "output_type": "stream",
     "text": [
      "Epoch 13/20, Loss: 1.5088\n"
     ]
    },
    {
     "name": "stderr",
     "output_type": "stream",
     "text": [
      "                                                                \r"
     ]
    },
    {
     "name": "stdout",
     "output_type": "stream",
     "text": [
      "Epoch 14/20, Loss: 1.5075\n"
     ]
    },
    {
     "name": "stderr",
     "output_type": "stream",
     "text": [
      "                                                                \r"
     ]
    },
    {
     "name": "stdout",
     "output_type": "stream",
     "text": [
      "Epoch 15/20, Loss: 1.5063\n"
     ]
    },
    {
     "name": "stderr",
     "output_type": "stream",
     "text": [
      "                                                                \r"
     ]
    },
    {
     "name": "stdout",
     "output_type": "stream",
     "text": [
      "Epoch 16/20, Loss: 1.5057\n"
     ]
    },
    {
     "name": "stderr",
     "output_type": "stream",
     "text": [
      "                                                                \r"
     ]
    },
    {
     "name": "stdout",
     "output_type": "stream",
     "text": [
      "Epoch 17/20, Loss: 1.5063\n"
     ]
    },
    {
     "name": "stderr",
     "output_type": "stream",
     "text": [
      "                                                                \r"
     ]
    },
    {
     "name": "stdout",
     "output_type": "stream",
     "text": [
      "Epoch 18/20, Loss: 1.5033\n"
     ]
    },
    {
     "name": "stderr",
     "output_type": "stream",
     "text": [
      "                                                                \r"
     ]
    },
    {
     "name": "stdout",
     "output_type": "stream",
     "text": [
      "Epoch 19/20, Loss: 1.5018\n"
     ]
    },
    {
     "name": "stderr",
     "output_type": "stream",
     "text": [
      "                                                                "
     ]
    },
    {
     "name": "stdout",
     "output_type": "stream",
     "text": [
      "Epoch 20/20, Loss: 1.5018\n"
     ]
    },
    {
     "name": "stderr",
     "output_type": "stream",
     "text": [
      "\r"
     ]
    }
   ],
   "source": [
    "import torch\n",
    "from tqdm import tqdm\n",
    "\n",
    "def train_model(epochs):\n",
    "    for epoch in range(epochs):\n",
    "        total_loss = 0.0\n",
    "\n",
    "        for inputs, targets in tqdm(train_loader, desc=f'Epoch {epoch+1}/{epochs}', leave=False):\n",
    "            inputs, targets = inputs.to(device), targets.to(device)\n",
    "            \n",
    "            optimizer.zero_grad()\n",
    "            \n",
    "            # batch_size = inputs.size(0)  # Get actual batch size\n",
    "            \n",
    "            # hidden = model.init_hidden(batch_size)  # Initialize with correct batch size\n",
    "            # hidden = hidden.to(device)\n",
    "\n",
    "            output,hidden = model(inputs)\n",
    "            # hidden = hidden.detach() \n",
    "            loss = criterion(output, targets)\n",
    "            loss.backward()\n",
    "            torch.nn.utils.clip_grad_norm_(model.parameters(),max_norm=1)\n",
    "            optimizer.step()\n",
    "\n",
    "            total_loss += loss.item()\n",
    "        \n",
    "        avg_loss = total_loss / len(train_loader)  # Compute average loss\n",
    "        print(f\"Epoch {epoch+1}/{epochs}, Loss: {avg_loss:.4f}\")\n",
    "\n",
    "        torch.save(\n",
    "            {\n",
    "                'epoch': epoch,\n",
    "                'model_state_dict': model.state_dict(),\n",
    "                'optimizer_state_dict': optimizer.state_dict(),\n",
    "                'loss': avg_loss\n",
    "            },\n",
    "            \"gru_model.pth\"\n",
    "        )\n",
    "\n",
    "\n",
    "# Example usage (make sure to define these variables before calling the function)\n",
    "# train_model(25, model, train_loader, optimizer, criterion, device)\n",
    "train_model(20)"
   ]
  },
  {
   "cell_type": "markdown",
   "metadata": {
    "id": "9qKCRUgOO6a4"
   },
   "source": [
    "# Reload model and Train"
   ]
  },
  {
   "cell_type": "code",
   "execution_count": 36,
   "metadata": {
    "execution": {
     "iopub.execute_input": "2025-02-15T08:56:46.044760Z",
     "iopub.status.busy": "2025-02-15T08:56:46.044430Z",
     "iopub.status.idle": "2025-02-15T08:56:46.593360Z",
     "shell.execute_reply": "2025-02-15T08:56:46.592477Z",
     "shell.execute_reply.started": "2025-02-15T08:56:46.044731Z"
    },
    "trusted": true
   },
   "outputs": [
    {
     "name": "stdout",
     "output_type": "stream",
     "text": [
      "ishq \n",
      "sar kar ke baat jaane se \n",
      "gar kar ke sab raat ke \n",
      "ham se ham ne jo sannām \n",
      "sar-e-hastī se hai \n",
      "ham se karam meñ \n",
      "ham ne baran meñ nazar hai \n",
      "hameñ aap ko chāhtā hai \n",
      "jo sab na saare kabhī \n",
      "ham meñ ham bhī ham \n",
      "us dekh le sab \n",
      "dekh aa.e \n",
      "na sar-e-has\n"
     ]
    }
   ],
   "source": [
    "import torch.nn.functional as F\n",
    "def generate_poem(model, seed_text, length):\n",
    "    model.eval()  # Set model to evaluation mode\n",
    "    characters = list(seed_text)\n",
    "    # hidden = model.init_hidden(1).to(device)  # Ensure batch size = 1 for inference\n",
    "\n",
    "    for _ in range(length):\n",
    "        input_seq = torch.tensor([[vocab_to_int[character] for character in characters[-seq_length:]]], dtype=torch.long).to(device)\n",
    "        \n",
    "        # Ensure input_seq is 3D: (batch_size=1, seq_length, input_size)\n",
    "        #input_seq = input_seq.unsqueeze(1)  # Add sequence dimension if missing\n",
    "        \n",
    "        output, hidden = model(input_seq)  # Pass input through GRU\n",
    "        #output = output.squeeze(0)  # Remove batch dimension\n",
    "        \n",
    "        probabilities = F.softmax(output/0.50, dim=-1)  # Apply softmax with temperature scaling\n",
    "        next_char_idx = torch.multinomial(probabilities, 1).item()\n",
    "        next_char = int_to_vocab[next_char_idx]\n",
    "        \n",
    "        characters.append(next_char)\n",
    "\n",
    "    return ''.join(characters)\n",
    "\n",
    "\n",
    "\n",
    "\n",
    "# Generate a poem\n",
    "seed_text =\"ishq \"\n",
    "generated_poem = generate_poem(model, seed_text, length=250)\n",
    "print(generated_poem)"
   ]
  },
  {
   "cell_type": "code",
   "execution_count": 13,
   "metadata": {
    "execution": {
     "iopub.execute_input": "2025-02-09T19:20:40.396796Z",
     "iopub.status.busy": "2025-02-09T19:20:40.396593Z",
     "iopub.status.idle": "2025-02-09T19:20:40.400098Z",
     "shell.execute_reply": "2025-02-09T19:20:40.399336Z",
     "shell.execute_reply.started": "2025-02-09T19:20:40.396778Z"
    },
    "trusted": true
   },
   "outputs": [],
   "source": [
    "# import torch"
   ]
  },
  {
   "cell_type": "code",
   "execution_count": 2,
   "metadata": {
    "execution": {
     "iopub.execute_input": "2025-02-09T19:39:45.412771Z",
     "iopub.status.busy": "2025-02-09T19:39:45.412407Z",
     "iopub.status.idle": "2025-02-09T19:39:45.416983Z",
     "shell.execute_reply": "2025-02-09T19:39:45.415918Z",
     "shell.execute_reply.started": "2025-02-09T19:39:45.412746Z"
    },
    "trusted": true
   },
   "outputs": [],
   "source": [
    "# import torch\n",
    "\n",
    "\n",
    "# checkpoint=torch.load('/kaggle/input/trained-model/gru_model (2).pth')\n",
    "# model=GRUPoemGenerator(vocab_size,embedding_dim,hidden_dim,n_layer).to(device)\n",
    "# optimizer=torch.optim.Adam(model.parameters(),lr=0.001)\n",
    "# model.load_state_dict(checkpoint['model_state_dict'])\n",
    "# optimizer.load_state_dict(checkpoint['optimizer_state_dict'])\n",
    "# epoch=checkpoint['epoch']\n",
    "# loss=checkpoint['loss']\n"
   ]
  },
  {
   "cell_type": "code",
   "execution_count": 9,
   "metadata": {
    "execution": {
     "iopub.execute_input": "2025-02-09T19:45:01.123443Z",
     "iopub.status.busy": "2025-02-09T19:45:01.123117Z",
     "iopub.status.idle": "2025-02-09T19:45:01.183467Z",
     "shell.execute_reply": "2025-02-09T19:45:01.182228Z",
     "shell.execute_reply.started": "2025-02-09T19:45:01.123420Z"
    },
    "trusted": true
   },
   "outputs": [
    {
     "name": "stderr",
     "output_type": "stream",
     "text": [
      "<ipython-input-9-48e1ed650216>:5: FutureWarning: You are using `torch.load` with `weights_only=False` (the current default value), which uses the default pickle module implicitly. It is possible to construct malicious pickle data which will execute arbitrary code during unpickling (See https://github.com/pytorch/pytorch/blob/main/SECURITY.md#untrusted-models for more details). In a future release, the default value for `weights_only` will be flipped to `True`. This limits the functions that could be executed during unpickling. Arbitrary objects will no longer be allowed to be loaded via this mode unless they are explicitly allowlisted by the user via `torch.serialization.add_safe_globals`. We recommend you start setting `weights_only=True` for any use case where you don't have full control of the loaded file. Please open an issue on GitHub for any issues related to this experimental feature.\n",
      "  model = torch.load(\"/kaggle/input/trained-model/gru_model (2).pth\")\n"
     ]
    },
    {
     "ename": "AttributeError",
     "evalue": "'dict' object has no attribute 'eval'",
     "output_type": "error",
     "traceback": [
      "\u001b[0;31m---------------------------------------------------------------------------\u001b[0m",
      "\u001b[0;31mAttributeError\u001b[0m                            Traceback (most recent call last)",
      "\u001b[0;32m<ipython-input-9-48e1ed650216>\u001b[0m in \u001b[0;36m<cell line: 11>\u001b[0;34m()\u001b[0m\n\u001b[1;32m      9\u001b[0m \u001b[0;31m# Set the model to evaluation mode\u001b[0m\u001b[0;34m\u001b[0m\u001b[0;34m\u001b[0m\u001b[0m\n\u001b[1;32m     10\u001b[0m \u001b[0mseed_text\u001b[0m \u001b[0;34m=\u001b[0m\u001b[0;34m\"ishq\"\u001b[0m\u001b[0;34m\u001b[0m\u001b[0;34m\u001b[0m\u001b[0m\n\u001b[0;32m---> 11\u001b[0;31m \u001b[0mgenerated_poem\u001b[0m \u001b[0;34m=\u001b[0m \u001b[0mgenerate_poem\u001b[0m\u001b[0;34m(\u001b[0m\u001b[0mmodel\u001b[0m\u001b[0;34m,\u001b[0m \u001b[0mseed_text\u001b[0m\u001b[0;34m,\u001b[0m \u001b[0mlength\u001b[0m\u001b[0;34m=\u001b[0m\u001b[0;36m1000\u001b[0m\u001b[0;34m)\u001b[0m\u001b[0;34m\u001b[0m\u001b[0;34m\u001b[0m\u001b[0m\n\u001b[0m\u001b[1;32m     12\u001b[0m \u001b[0mprint\u001b[0m\u001b[0;34m(\u001b[0m\u001b[0mgenerated_poem\u001b[0m\u001b[0;34m)\u001b[0m\u001b[0;34m\u001b[0m\u001b[0;34m\u001b[0m\u001b[0m\n",
      "\u001b[0;32m<ipython-input-8-5bc324c0c52d>\u001b[0m in \u001b[0;36mgenerate_poem\u001b[0;34m(model, seed_text, length)\u001b[0m\n\u001b[1;32m      1\u001b[0m \u001b[0;32mimport\u001b[0m \u001b[0mtorch\u001b[0m\u001b[0;34m.\u001b[0m\u001b[0mnn\u001b[0m\u001b[0;34m.\u001b[0m\u001b[0mfunctional\u001b[0m \u001b[0;32mas\u001b[0m \u001b[0mF\u001b[0m\u001b[0;34m\u001b[0m\u001b[0;34m\u001b[0m\u001b[0m\n\u001b[1;32m      2\u001b[0m \u001b[0;32mdef\u001b[0m \u001b[0mgenerate_poem\u001b[0m\u001b[0;34m(\u001b[0m\u001b[0mmodel\u001b[0m\u001b[0;34m,\u001b[0m \u001b[0mseed_text\u001b[0m\u001b[0;34m,\u001b[0m \u001b[0mlength\u001b[0m\u001b[0;34m)\u001b[0m\u001b[0;34m:\u001b[0m\u001b[0;34m\u001b[0m\u001b[0;34m\u001b[0m\u001b[0m\n\u001b[0;32m----> 3\u001b[0;31m     \u001b[0mmodel\u001b[0m\u001b[0;34m.\u001b[0m\u001b[0meval\u001b[0m\u001b[0;34m(\u001b[0m\u001b[0;34m)\u001b[0m  \u001b[0;31m# Set model to evaluation mode\u001b[0m\u001b[0;34m\u001b[0m\u001b[0;34m\u001b[0m\u001b[0m\n\u001b[0m\u001b[1;32m      4\u001b[0m     \u001b[0mcharacters\u001b[0m \u001b[0;34m=\u001b[0m \u001b[0mlist\u001b[0m\u001b[0;34m(\u001b[0m\u001b[0mseed_text\u001b[0m\u001b[0;34m)\u001b[0m\u001b[0;34m\u001b[0m\u001b[0;34m\u001b[0m\u001b[0m\n\u001b[1;32m      5\u001b[0m     \u001b[0mhidden\u001b[0m \u001b[0;34m=\u001b[0m \u001b[0mmodel\u001b[0m\u001b[0;34m.\u001b[0m\u001b[0minit_hidden\u001b[0m\u001b[0;34m(\u001b[0m\u001b[0;36m1\u001b[0m\u001b[0;34m)\u001b[0m\u001b[0;34m.\u001b[0m\u001b[0mto\u001b[0m\u001b[0;34m(\u001b[0m\u001b[0mdevice\u001b[0m\u001b[0;34m)\u001b[0m  \u001b[0;31m# Ensure batch size = 1 for inference\u001b[0m\u001b[0;34m\u001b[0m\u001b[0;34m\u001b[0m\u001b[0m\n",
      "\u001b[0;31mAttributeError\u001b[0m: 'dict' object has no attribute 'eval'"
     ]
    }
   ],
   "source": [
    "import torch\n",
    "# Assuming your model is already defined as `model` and optimizer is defined as `optimizer`\n",
    "\n",
    "# Load the checkpoint\n",
    "model = torch.load(\"/kaggle/input/trained-model/gru_model (2).pth\")\n",
    "\n",
    "\n",
    "\n",
    "# Set the model to evaluation mode\n",
    "seed_text =\"ishq\"\n",
    "generated_poem = generate_poem(model, seed_text, length=1000)\n",
    "print(generated_poem)\n"
   ]
  },
  {
   "cell_type": "code",
   "execution_count": null,
   "metadata": {
    "trusted": true
   },
   "outputs": [],
   "source": []
  }
 ],
 "metadata": {
  "accelerator": "GPU",
  "colab": {
   "authorship_tag": "ABX9TyMqlX5qXQS4hYgxaMhK1+zL",
   "gpuType": "T4",
   "provenance": [
    {
     "file_id": "1sBJ8uG2KOQZ7xKSk-zX6y1JlJJZ2scbZ",
     "timestamp": 1738939985445
    }
   ]
  },
  "kaggle": {
   "accelerator": "gpu",
   "dataSources": [
    {
     "datasetId": 6622410,
     "sourceId": 10688495,
     "sourceType": "datasetVersion"
    },
    {
     "datasetId": 6635155,
     "sourceId": 10706148,
     "sourceType": "datasetVersion"
    }
   ],
   "dockerImageVersionId": 30887,
   "isGpuEnabled": true,
   "isInternetEnabled": true,
   "language": "python",
   "sourceType": "notebook"
  },
  "kernelspec": {
   "display_name": "Python 3",
   "language": "python",
   "name": "python3"
  },
  "language_info": {
   "codemirror_mode": {
    "name": "ipython",
    "version": 3
   },
   "file_extension": ".py",
   "mimetype": "text/x-python",
   "name": "python",
   "nbconvert_exporter": "python",
   "pygments_lexer": "ipython3",
   "version": "3.10.12"
  }
 },
 "nbformat": 4,
 "nbformat_minor": 4
}
